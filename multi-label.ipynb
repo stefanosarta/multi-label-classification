{
  "nbformat": 4,
  "nbformat_minor": 0,
  "metadata": {
    "colab": {
      "provenance": [],
      "toc_visible": true
    },
    "kernelspec": {
      "name": "python3",
      "display_name": "Python 3"
    },
    "language_info": {
      "name": "python"
    }
  },
  "cells": [
    {
      "cell_type": "markdown",
      "source": [
        "### **PIP Installations**\n",
        "Installation of some stuff that are not already contained on Google Colab\n",
        "\n",
        "\n",
        "\n",
        "1.    http://scikit.ml/ --> Scikit-multilearn is a BSD-licensed library for multi-label classification that is built on top of the well-known scikit-learn ecosystem. \n",
        "2.   https://pypi.org/project/neattext/ --> NeatText:a simple NLP package for cleaning textual data and text preprocessing. Simplifying Text Cleaning For NLP & ML\n",
        "\n"
      ],
      "metadata": {
        "id": "xoxVqaU6kpjb"
      }
    },
    {
      "cell_type": "code",
      "execution_count": 1,
      "metadata": {
        "colab": {
          "base_uri": "https://localhost:8080/"
        },
        "id": "bFl21Naaki3S",
        "outputId": "3e251abe-6837-4333-b50b-a9d6b31b4487"
      },
      "outputs": [
        {
          "output_type": "stream",
          "name": "stdout",
          "text": [
            "Looking in indexes: https://pypi.org/simple, https://us-python.pkg.dev/colab-wheels/public/simple/\n",
            "Requirement already satisfied: scikit-multilearn in /usr/local/lib/python3.7/dist-packages (0.2.0)\n",
            "Looking in indexes: https://pypi.org/simple, https://us-python.pkg.dev/colab-wheels/public/simple/\n",
            "Requirement already satisfied: neattext in /usr/local/lib/python3.7/dist-packages (0.1.3)\n"
          ]
        }
      ],
      "source": [
        "!pip install scikit-multilearn\n",
        "!pip install neattext"
      ]
    },
    {
      "cell_type": "markdown",
      "source": [
        "----"
      ],
      "metadata": {
        "id": "0A2ZVWAXleRW"
      }
    },
    {
      "cell_type": "markdown",
      "source": [
        "### **Package Installations**"
      ],
      "metadata": {
        "id": "9K509PUilfsa"
      }
    },
    {
      "cell_type": "code",
      "source": [
        "# pandas is a fast, powerful, flexible and easy to use open source data analysis and manipulation tool, \n",
        "# built on top of the Python programming language. --> https://pandas.pydata.org/ \n",
        "import pandas as pd\n",
        "\n",
        "# The fundamental package for scientific computing with Python --> https://numpy.org/\n",
        "import numpy as np\n",
        "\n",
        "# Split arrays or matrices into random train and test subsets. --> https://scikit-learn.org/stable/modules/generated/sklearn.model_selection.train_test_split.html\n",
        "from sklearn.model_selection import train_test_split\n",
        "\n",
        "# Convert a collection of raw documents to a matrix of TF-IDF features. --> https://scikit-learn.org/stable/modules/generated/sklearn.feature_extraction.text.TfidfVectorizer.html\n",
        "from sklearn.feature_extraction.text import TfidfVectorizer\n",
        "\n",
        "# kNN classification method adapted for multi-label classification --> http://scikit.ml/api/skmultilearn.adapt.mlknn.html\n",
        "from skmultilearn.adapt import MLkNN\n",
        "\n",
        "# Compute the average Hamming loss. The Hamming loss is the fraction of labels that are \n",
        "# incorrectly predicted. --> https://scikit-learn.org/stable/modules/generated/sklearn.metrics.hamming_loss.html\n",
        "\n",
        "# In multilabel classification, this function computes subset accuracy: the set of labels predicted for a sample must exactly match the corresponding set of \n",
        "# labels in y_true. --> https://scikit-learn.org/stable/modules/generated/sklearn.metrics.accuracy_score.html\n",
        "\n",
        "# Build a text report showing the main classification metrics.\n",
        "from sklearn.metrics import hamming_loss, accuracy_score, classification_report\n",
        "\n",
        "# Transform between iterable of iterables and a multilabel format.\n",
        "from sklearn.preprocessing import MultiLabelBinarizer\n",
        "\n",
        "# Transforms a multi-label classification problem with L labels into L single-label separate binary classification problems using the same base classifier provided  \n",
        "# in the constructor. The prediction output is the union of all per label classifiers. --> http://scikit.ml/api/skmultilearn.problem_transform.br.html\n",
        "from skmultilearn.problem_transform import BinaryRelevance\n",
        "\n",
        "# Each model makes a prediction in the order specified by the chain using all of the available features provided to the model plus the predictions of models that are \n",
        "# earlier in the chain. --> https://scikit-learn.org/stable/modules/generated/sklearn.multioutput.ClassifierChain.html\n",
        "from skmultilearn.problem_transform import ClassifierChain\n",
        "\n",
        "# Transform multi-label problem to a multi-class problem --> http://scikit.ml/api/skmultilearn.problem_transform.lp.html\n",
        "from skmultilearn.problem_transform import LabelPowerset\n",
        "\n",
        "# NeatText:a simple NLP package for cleaning textual data and text preprocessing. Simplifying Text Cleaning For NLP & ML. --> https://pypi.org/project/neattext/\n",
        "import neattext as nt\n",
        "import neattext.functions as nfx\n",
        "from neattext.functions import clean_text\n",
        "\n",
        "from sklearn.naive_bayes import GaussianNB,MultinomialNB"
      ],
      "metadata": {
        "id": "dGexGADalfPG"
      },
      "execution_count": 2,
      "outputs": []
    },
    {
      "cell_type": "markdown",
      "source": [
        "---"
      ],
      "metadata": {
        "id": "aAfiAk1Eoa7p"
      }
    },
    {
      "cell_type": "markdown",
      "source": [
        "----"
      ],
      "metadata": {
        "id": "fSy8ItfQob8d"
      }
    },
    {
      "cell_type": "markdown",
      "source": [
        "### **Data Load**\n",
        "Data is Uploaded on Google Sessions. Only available at this point, while session is running. After this, it has to be reuploaded."
      ],
      "metadata": {
        "id": "MupUErlHodF0"
      }
    },
    {
      "cell_type": "code",
      "source": [
        "from operator import index\n",
        "# Load data and show the first 5 rows.\n",
        "# Read a comma-separated values (csv) file into DataFrame. --> https://pandas.pydata.org/pandas-docs/stable/reference/api/pandas.read_csv.html\n",
        "df = pd.read_csv('dataset2.csv', header=0, sep = ',')\n",
        "df.head(5)"
      ],
      "metadata": {
        "colab": {
          "base_uri": "https://localhost:8080/",
          "height": 206
        },
        "id": "M4nLsyRmobiR",
        "outputId": "098e5202-d4bc-4cdb-e84d-387a407675f1"
      },
      "execution_count": 3,
      "outputs": [
        {
          "output_type": "execute_result",
          "data": {
            "text/plain": [
              "                                         description  \\\n",
              "0  It was possible for double OGNL evaluation in ...   \n",
              "1  A buffer overflow in glibc 2.5 (released on Se...   \n",
              "2  A memory leak in glibc 2.1.1 (released on May ...   \n",
              "3  The \"stub_send_ret_submit()\" function (drivers...   \n",
              "4  The \"stub_recv_cmd_submit()\" function (drivers...   \n",
              "\n",
              "                                        technique_id  Unnamed: 2  \n",
              "0  1156, 1058, 1130, 1050, 1160, 1152, 1031, 1062...         NaN  \n",
              "1                                                NaN         NaN  \n",
              "2                                                NaN         NaN  \n",
              "3                                                NaN         NaN  \n",
              "4                                                NaN         NaN  "
            ],
            "text/html": [
              "\n",
              "  <div id=\"df-5248f293-5ad2-45b5-8776-d23e1d577038\">\n",
              "    <div class=\"colab-df-container\">\n",
              "      <div>\n",
              "<style scoped>\n",
              "    .dataframe tbody tr th:only-of-type {\n",
              "        vertical-align: middle;\n",
              "    }\n",
              "\n",
              "    .dataframe tbody tr th {\n",
              "        vertical-align: top;\n",
              "    }\n",
              "\n",
              "    .dataframe thead th {\n",
              "        text-align: right;\n",
              "    }\n",
              "</style>\n",
              "<table border=\"1\" class=\"dataframe\">\n",
              "  <thead>\n",
              "    <tr style=\"text-align: right;\">\n",
              "      <th></th>\n",
              "      <th>description</th>\n",
              "      <th>technique_id</th>\n",
              "      <th>Unnamed: 2</th>\n",
              "    </tr>\n",
              "  </thead>\n",
              "  <tbody>\n",
              "    <tr>\n",
              "      <th>0</th>\n",
              "      <td>It was possible for double OGNL evaluation in ...</td>\n",
              "      <td>1156, 1058, 1130, 1050, 1160, 1152, 1031, 1062...</td>\n",
              "      <td>NaN</td>\n",
              "    </tr>\n",
              "    <tr>\n",
              "      <th>1</th>\n",
              "      <td>A buffer overflow in glibc 2.5 (released on Se...</td>\n",
              "      <td>NaN</td>\n",
              "      <td>NaN</td>\n",
              "    </tr>\n",
              "    <tr>\n",
              "      <th>2</th>\n",
              "      <td>A memory leak in glibc 2.1.1 (released on May ...</td>\n",
              "      <td>NaN</td>\n",
              "      <td>NaN</td>\n",
              "    </tr>\n",
              "    <tr>\n",
              "      <th>3</th>\n",
              "      <td>The \"stub_send_ret_submit()\" function (drivers...</td>\n",
              "      <td>NaN</td>\n",
              "      <td>NaN</td>\n",
              "    </tr>\n",
              "    <tr>\n",
              "      <th>4</th>\n",
              "      <td>The \"stub_recv_cmd_submit()\" function (drivers...</td>\n",
              "      <td>NaN</td>\n",
              "      <td>NaN</td>\n",
              "    </tr>\n",
              "  </tbody>\n",
              "</table>\n",
              "</div>\n",
              "      <button class=\"colab-df-convert\" onclick=\"convertToInteractive('df-5248f293-5ad2-45b5-8776-d23e1d577038')\"\n",
              "              title=\"Convert this dataframe to an interactive table.\"\n",
              "              style=\"display:none;\">\n",
              "        \n",
              "  <svg xmlns=\"http://www.w3.org/2000/svg\" height=\"24px\"viewBox=\"0 0 24 24\"\n",
              "       width=\"24px\">\n",
              "    <path d=\"M0 0h24v24H0V0z\" fill=\"none\"/>\n",
              "    <path d=\"M18.56 5.44l.94 2.06.94-2.06 2.06-.94-2.06-.94-.94-2.06-.94 2.06-2.06.94zm-11 1L8.5 8.5l.94-2.06 2.06-.94-2.06-.94L8.5 2.5l-.94 2.06-2.06.94zm10 10l.94 2.06.94-2.06 2.06-.94-2.06-.94-.94-2.06-.94 2.06-2.06.94z\"/><path d=\"M17.41 7.96l-1.37-1.37c-.4-.4-.92-.59-1.43-.59-.52 0-1.04.2-1.43.59L10.3 9.45l-7.72 7.72c-.78.78-.78 2.05 0 2.83L4 21.41c.39.39.9.59 1.41.59.51 0 1.02-.2 1.41-.59l7.78-7.78 2.81-2.81c.8-.78.8-2.07 0-2.86zM5.41 20L4 18.59l7.72-7.72 1.47 1.35L5.41 20z\"/>\n",
              "  </svg>\n",
              "      </button>\n",
              "      \n",
              "  <style>\n",
              "    .colab-df-container {\n",
              "      display:flex;\n",
              "      flex-wrap:wrap;\n",
              "      gap: 12px;\n",
              "    }\n",
              "\n",
              "    .colab-df-convert {\n",
              "      background-color: #E8F0FE;\n",
              "      border: none;\n",
              "      border-radius: 50%;\n",
              "      cursor: pointer;\n",
              "      display: none;\n",
              "      fill: #1967D2;\n",
              "      height: 32px;\n",
              "      padding: 0 0 0 0;\n",
              "      width: 32px;\n",
              "    }\n",
              "\n",
              "    .colab-df-convert:hover {\n",
              "      background-color: #E2EBFA;\n",
              "      box-shadow: 0px 1px 2px rgba(60, 64, 67, 0.3), 0px 1px 3px 1px rgba(60, 64, 67, 0.15);\n",
              "      fill: #174EA6;\n",
              "    }\n",
              "\n",
              "    [theme=dark] .colab-df-convert {\n",
              "      background-color: #3B4455;\n",
              "      fill: #D2E3FC;\n",
              "    }\n",
              "\n",
              "    [theme=dark] .colab-df-convert:hover {\n",
              "      background-color: #434B5C;\n",
              "      box-shadow: 0px 1px 3px 1px rgba(0, 0, 0, 0.15);\n",
              "      filter: drop-shadow(0px 1px 2px rgba(0, 0, 0, 0.3));\n",
              "      fill: #FFFFFF;\n",
              "    }\n",
              "  </style>\n",
              "\n",
              "      <script>\n",
              "        const buttonEl =\n",
              "          document.querySelector('#df-5248f293-5ad2-45b5-8776-d23e1d577038 button.colab-df-convert');\n",
              "        buttonEl.style.display =\n",
              "          google.colab.kernel.accessAllowed ? 'block' : 'none';\n",
              "\n",
              "        async function convertToInteractive(key) {\n",
              "          const element = document.querySelector('#df-5248f293-5ad2-45b5-8776-d23e1d577038');\n",
              "          const dataTable =\n",
              "            await google.colab.kernel.invokeFunction('convertToInteractive',\n",
              "                                                     [key], {});\n",
              "          if (!dataTable) return;\n",
              "\n",
              "          const docLinkHtml = 'Like what you see? Visit the ' +\n",
              "            '<a target=\"_blank\" href=https://colab.research.google.com/notebooks/data_table.ipynb>data table notebook</a>'\n",
              "            + ' to learn more about interactive tables.';\n",
              "          element.innerHTML = '';\n",
              "          dataTable['output_type'] = 'display_data';\n",
              "          await google.colab.output.renderOutput(dataTable, element);\n",
              "          const docLink = document.createElement('div');\n",
              "          docLink.innerHTML = docLinkHtml;\n",
              "          element.appendChild(docLink);\n",
              "        }\n",
              "      </script>\n",
              "    </div>\n",
              "  </div>\n",
              "  "
            ]
          },
          "metadata": {},
          "execution_count": 3
        }
      ]
    },
    {
      "cell_type": "markdown",
      "source": [
        "---"
      ],
      "metadata": {
        "id": "yNpZRgBktBfG"
      }
    },
    {
      "cell_type": "markdown",
      "source": [
        "----"
      ],
      "metadata": {
        "id": "d6BnziRFtCgQ"
      }
    },
    {
      "cell_type": "markdown",
      "source": [
        "### **Data Manipulation**\n",
        "\n",
        "**Drop some stuff**\n",
        "\n",
        "*   A column \"Unnamed: 2\" was autimatically created. Somthing wrong with the csv file that was downloaded.\n",
        "*   We will drop this and show the first 2 rows to confirm action."
      ],
      "metadata": {
        "id": "t2qt2lEOtD5C"
      }
    },
    {
      "cell_type": "code",
      "source": [
        "df.drop('Unnamed: 2', axis=1, inplace=True)\n",
        "df.head(2)"
      ],
      "metadata": {
        "colab": {
          "base_uri": "https://localhost:8080/",
          "height": 112
        },
        "id": "jo6-RBH8pN7j",
        "outputId": "a839ce9b-a89a-4679-ce66-7acd731afb33"
      },
      "execution_count": 4,
      "outputs": [
        {
          "output_type": "execute_result",
          "data": {
            "text/plain": [
              "                                         description  \\\n",
              "0  It was possible for double OGNL evaluation in ...   \n",
              "1  A buffer overflow in glibc 2.5 (released on Se...   \n",
              "\n",
              "                                        technique_id  \n",
              "0  1156, 1058, 1130, 1050, 1160, 1152, 1031, 1062...  \n",
              "1                                                NaN  "
            ],
            "text/html": [
              "\n",
              "  <div id=\"df-33c200a7-e285-461f-b592-330ffc39b58b\">\n",
              "    <div class=\"colab-df-container\">\n",
              "      <div>\n",
              "<style scoped>\n",
              "    .dataframe tbody tr th:only-of-type {\n",
              "        vertical-align: middle;\n",
              "    }\n",
              "\n",
              "    .dataframe tbody tr th {\n",
              "        vertical-align: top;\n",
              "    }\n",
              "\n",
              "    .dataframe thead th {\n",
              "        text-align: right;\n",
              "    }\n",
              "</style>\n",
              "<table border=\"1\" class=\"dataframe\">\n",
              "  <thead>\n",
              "    <tr style=\"text-align: right;\">\n",
              "      <th></th>\n",
              "      <th>description</th>\n",
              "      <th>technique_id</th>\n",
              "    </tr>\n",
              "  </thead>\n",
              "  <tbody>\n",
              "    <tr>\n",
              "      <th>0</th>\n",
              "      <td>It was possible for double OGNL evaluation in ...</td>\n",
              "      <td>1156, 1058, 1130, 1050, 1160, 1152, 1031, 1062...</td>\n",
              "    </tr>\n",
              "    <tr>\n",
              "      <th>1</th>\n",
              "      <td>A buffer overflow in glibc 2.5 (released on Se...</td>\n",
              "      <td>NaN</td>\n",
              "    </tr>\n",
              "  </tbody>\n",
              "</table>\n",
              "</div>\n",
              "      <button class=\"colab-df-convert\" onclick=\"convertToInteractive('df-33c200a7-e285-461f-b592-330ffc39b58b')\"\n",
              "              title=\"Convert this dataframe to an interactive table.\"\n",
              "              style=\"display:none;\">\n",
              "        \n",
              "  <svg xmlns=\"http://www.w3.org/2000/svg\" height=\"24px\"viewBox=\"0 0 24 24\"\n",
              "       width=\"24px\">\n",
              "    <path d=\"M0 0h24v24H0V0z\" fill=\"none\"/>\n",
              "    <path d=\"M18.56 5.44l.94 2.06.94-2.06 2.06-.94-2.06-.94-.94-2.06-.94 2.06-2.06.94zm-11 1L8.5 8.5l.94-2.06 2.06-.94-2.06-.94L8.5 2.5l-.94 2.06-2.06.94zm10 10l.94 2.06.94-2.06 2.06-.94-2.06-.94-.94-2.06-.94 2.06-2.06.94z\"/><path d=\"M17.41 7.96l-1.37-1.37c-.4-.4-.92-.59-1.43-.59-.52 0-1.04.2-1.43.59L10.3 9.45l-7.72 7.72c-.78.78-.78 2.05 0 2.83L4 21.41c.39.39.9.59 1.41.59.51 0 1.02-.2 1.41-.59l7.78-7.78 2.81-2.81c.8-.78.8-2.07 0-2.86zM5.41 20L4 18.59l7.72-7.72 1.47 1.35L5.41 20z\"/>\n",
              "  </svg>\n",
              "      </button>\n",
              "      \n",
              "  <style>\n",
              "    .colab-df-container {\n",
              "      display:flex;\n",
              "      flex-wrap:wrap;\n",
              "      gap: 12px;\n",
              "    }\n",
              "\n",
              "    .colab-df-convert {\n",
              "      background-color: #E8F0FE;\n",
              "      border: none;\n",
              "      border-radius: 50%;\n",
              "      cursor: pointer;\n",
              "      display: none;\n",
              "      fill: #1967D2;\n",
              "      height: 32px;\n",
              "      padding: 0 0 0 0;\n",
              "      width: 32px;\n",
              "    }\n",
              "\n",
              "    .colab-df-convert:hover {\n",
              "      background-color: #E2EBFA;\n",
              "      box-shadow: 0px 1px 2px rgba(60, 64, 67, 0.3), 0px 1px 3px 1px rgba(60, 64, 67, 0.15);\n",
              "      fill: #174EA6;\n",
              "    }\n",
              "\n",
              "    [theme=dark] .colab-df-convert {\n",
              "      background-color: #3B4455;\n",
              "      fill: #D2E3FC;\n",
              "    }\n",
              "\n",
              "    [theme=dark] .colab-df-convert:hover {\n",
              "      background-color: #434B5C;\n",
              "      box-shadow: 0px 1px 3px 1px rgba(0, 0, 0, 0.15);\n",
              "      filter: drop-shadow(0px 1px 2px rgba(0, 0, 0, 0.3));\n",
              "      fill: #FFFFFF;\n",
              "    }\n",
              "  </style>\n",
              "\n",
              "      <script>\n",
              "        const buttonEl =\n",
              "          document.querySelector('#df-33c200a7-e285-461f-b592-330ffc39b58b button.colab-df-convert');\n",
              "        buttonEl.style.display =\n",
              "          google.colab.kernel.accessAllowed ? 'block' : 'none';\n",
              "\n",
              "        async function convertToInteractive(key) {\n",
              "          const element = document.querySelector('#df-33c200a7-e285-461f-b592-330ffc39b58b');\n",
              "          const dataTable =\n",
              "            await google.colab.kernel.invokeFunction('convertToInteractive',\n",
              "                                                     [key], {});\n",
              "          if (!dataTable) return;\n",
              "\n",
              "          const docLinkHtml = 'Like what you see? Visit the ' +\n",
              "            '<a target=\"_blank\" href=https://colab.research.google.com/notebooks/data_table.ipynb>data table notebook</a>'\n",
              "            + ' to learn more about interactive tables.';\n",
              "          element.innerHTML = '';\n",
              "          dataTable['output_type'] = 'display_data';\n",
              "          await google.colab.output.renderOutput(dataTable, element);\n",
              "          const docLink = document.createElement('div');\n",
              "          docLink.innerHTML = docLinkHtml;\n",
              "          element.appendChild(docLink);\n",
              "        }\n",
              "      </script>\n",
              "    </div>\n",
              "  </div>\n",
              "  "
            ]
          },
          "metadata": {},
          "execution_count": 4
        }
      ]
    },
    {
      "cell_type": "markdown",
      "source": [
        "**Drop rows with NaN values** \n",
        "\n",
        "All NaN values of column \"technique_id\" are useless at the moment so we will drop each row that contains one\n"
      ],
      "metadata": {
        "id": "dLeuDTverjmB"
      }
    },
    {
      "cell_type": "code",
      "source": [
        "df = df.dropna(subset=['technique_id'])\n",
        "df.head(2)"
      ],
      "metadata": {
        "colab": {
          "base_uri": "https://localhost:8080/",
          "height": 112
        },
        "id": "dDmuFz-Nqud-",
        "outputId": "86c5a0f5-018a-40ad-e1db-b4f9d9c6bdfc"
      },
      "execution_count": 5,
      "outputs": [
        {
          "output_type": "execute_result",
          "data": {
            "text/plain": [
              "                                         description  \\\n",
              "0  It was possible for double OGNL evaluation in ...   \n",
              "6  The vhci_hcd driver in the Linux Kernel before...   \n",
              "\n",
              "                                        technique_id  \n",
              "0  1156, 1058, 1130, 1050, 1160, 1152, 1031, 1062...  \n",
              "6  1148, 1049, 1018, 1124, 1046, 1016, 1126, 1082...  "
            ],
            "text/html": [
              "\n",
              "  <div id=\"df-477569a8-77f9-488a-9481-8dfd881c4768\">\n",
              "    <div class=\"colab-df-container\">\n",
              "      <div>\n",
              "<style scoped>\n",
              "    .dataframe tbody tr th:only-of-type {\n",
              "        vertical-align: middle;\n",
              "    }\n",
              "\n",
              "    .dataframe tbody tr th {\n",
              "        vertical-align: top;\n",
              "    }\n",
              "\n",
              "    .dataframe thead th {\n",
              "        text-align: right;\n",
              "    }\n",
              "</style>\n",
              "<table border=\"1\" class=\"dataframe\">\n",
              "  <thead>\n",
              "    <tr style=\"text-align: right;\">\n",
              "      <th></th>\n",
              "      <th>description</th>\n",
              "      <th>technique_id</th>\n",
              "    </tr>\n",
              "  </thead>\n",
              "  <tbody>\n",
              "    <tr>\n",
              "      <th>0</th>\n",
              "      <td>It was possible for double OGNL evaluation in ...</td>\n",
              "      <td>1156, 1058, 1130, 1050, 1160, 1152, 1031, 1062...</td>\n",
              "    </tr>\n",
              "    <tr>\n",
              "      <th>6</th>\n",
              "      <td>The vhci_hcd driver in the Linux Kernel before...</td>\n",
              "      <td>1148, 1049, 1018, 1124, 1046, 1016, 1126, 1082...</td>\n",
              "    </tr>\n",
              "  </tbody>\n",
              "</table>\n",
              "</div>\n",
              "      <button class=\"colab-df-convert\" onclick=\"convertToInteractive('df-477569a8-77f9-488a-9481-8dfd881c4768')\"\n",
              "              title=\"Convert this dataframe to an interactive table.\"\n",
              "              style=\"display:none;\">\n",
              "        \n",
              "  <svg xmlns=\"http://www.w3.org/2000/svg\" height=\"24px\"viewBox=\"0 0 24 24\"\n",
              "       width=\"24px\">\n",
              "    <path d=\"M0 0h24v24H0V0z\" fill=\"none\"/>\n",
              "    <path d=\"M18.56 5.44l.94 2.06.94-2.06 2.06-.94-2.06-.94-.94-2.06-.94 2.06-2.06.94zm-11 1L8.5 8.5l.94-2.06 2.06-.94-2.06-.94L8.5 2.5l-.94 2.06-2.06.94zm10 10l.94 2.06.94-2.06 2.06-.94-2.06-.94-.94-2.06-.94 2.06-2.06.94z\"/><path d=\"M17.41 7.96l-1.37-1.37c-.4-.4-.92-.59-1.43-.59-.52 0-1.04.2-1.43.59L10.3 9.45l-7.72 7.72c-.78.78-.78 2.05 0 2.83L4 21.41c.39.39.9.59 1.41.59.51 0 1.02-.2 1.41-.59l7.78-7.78 2.81-2.81c.8-.78.8-2.07 0-2.86zM5.41 20L4 18.59l7.72-7.72 1.47 1.35L5.41 20z\"/>\n",
              "  </svg>\n",
              "      </button>\n",
              "      \n",
              "  <style>\n",
              "    .colab-df-container {\n",
              "      display:flex;\n",
              "      flex-wrap:wrap;\n",
              "      gap: 12px;\n",
              "    }\n",
              "\n",
              "    .colab-df-convert {\n",
              "      background-color: #E8F0FE;\n",
              "      border: none;\n",
              "      border-radius: 50%;\n",
              "      cursor: pointer;\n",
              "      display: none;\n",
              "      fill: #1967D2;\n",
              "      height: 32px;\n",
              "      padding: 0 0 0 0;\n",
              "      width: 32px;\n",
              "    }\n",
              "\n",
              "    .colab-df-convert:hover {\n",
              "      background-color: #E2EBFA;\n",
              "      box-shadow: 0px 1px 2px rgba(60, 64, 67, 0.3), 0px 1px 3px 1px rgba(60, 64, 67, 0.15);\n",
              "      fill: #174EA6;\n",
              "    }\n",
              "\n",
              "    [theme=dark] .colab-df-convert {\n",
              "      background-color: #3B4455;\n",
              "      fill: #D2E3FC;\n",
              "    }\n",
              "\n",
              "    [theme=dark] .colab-df-convert:hover {\n",
              "      background-color: #434B5C;\n",
              "      box-shadow: 0px 1px 3px 1px rgba(0, 0, 0, 0.15);\n",
              "      filter: drop-shadow(0px 1px 2px rgba(0, 0, 0, 0.3));\n",
              "      fill: #FFFFFF;\n",
              "    }\n",
              "  </style>\n",
              "\n",
              "      <script>\n",
              "        const buttonEl =\n",
              "          document.querySelector('#df-477569a8-77f9-488a-9481-8dfd881c4768 button.colab-df-convert');\n",
              "        buttonEl.style.display =\n",
              "          google.colab.kernel.accessAllowed ? 'block' : 'none';\n",
              "\n",
              "        async function convertToInteractive(key) {\n",
              "          const element = document.querySelector('#df-477569a8-77f9-488a-9481-8dfd881c4768');\n",
              "          const dataTable =\n",
              "            await google.colab.kernel.invokeFunction('convertToInteractive',\n",
              "                                                     [key], {});\n",
              "          if (!dataTable) return;\n",
              "\n",
              "          const docLinkHtml = 'Like what you see? Visit the ' +\n",
              "            '<a target=\"_blank\" href=https://colab.research.google.com/notebooks/data_table.ipynb>data table notebook</a>'\n",
              "            + ' to learn more about interactive tables.';\n",
              "          element.innerHTML = '';\n",
              "          dataTable['output_type'] = 'display_data';\n",
              "          await google.colab.output.renderOutput(dataTable, element);\n",
              "          const docLink = document.createElement('div');\n",
              "          docLink.innerHTML = docLinkHtml;\n",
              "          element.appendChild(docLink);\n",
              "        }\n",
              "      </script>\n",
              "    </div>\n",
              "  </div>\n",
              "  "
            ]
          },
          "metadata": {},
          "execution_count": 5
        }
      ]
    },
    {
      "cell_type": "markdown",
      "source": [
        "Check if any NaN values exist on our data."
      ],
      "metadata": {
        "id": "ugtUXqbssxcB"
      }
    },
    {
      "cell_type": "code",
      "source": [
        "df.info()"
      ],
      "metadata": {
        "colab": {
          "base_uri": "https://localhost:8080/"
        },
        "id": "idXQN-byq1w7",
        "outputId": "2067c3f1-7833-48c7-8521-c41b4c5b5f94"
      },
      "execution_count": 6,
      "outputs": [
        {
          "output_type": "stream",
          "name": "stdout",
          "text": [
            "<class 'pandas.core.frame.DataFrame'>\n",
            "Int64Index: 8077 entries, 0 to 27470\n",
            "Data columns (total 2 columns):\n",
            " #   Column        Non-Null Count  Dtype \n",
            "---  ------        --------------  ----- \n",
            " 0   description   8077 non-null   object\n",
            " 1   technique_id  8077 non-null   object\n",
            "dtypes: object(2)\n",
            "memory usage: 189.3+ KB\n"
          ]
        }
      ]
    },
    {
      "cell_type": "markdown",
      "source": [
        "Data loaded shows column \"technique_id\" as one string character all together. We need to distinguish attack id values in order for multi label to work."
      ],
      "metadata": {
        "id": "0CGNSNTAugwT"
      }
    },
    {
      "cell_type": "code",
      "source": [
        "df['technique_id'] = df['technique_id'].str.split(',').apply(set).tolist()\n",
        "\n",
        "mlb = MultiLabelBinarizer(sparse_output=True)\n",
        "\n",
        "df = df.join(\n",
        "            pd.DataFrame.sparse.from_spmatrix(\n",
        "                mlb.fit_transform(df.pop('technique_id')),\n",
        "                index=df.index,\n",
        "                columns=mlb.classes_))\n",
        "\n",
        "df.head(2)"
      ],
      "metadata": {
        "colab": {
          "base_uri": "https://localhost:8080/",
          "height": 141
        },
        "id": "QPvoOK8us4vM",
        "outputId": "e140147a-c097-4eec-994d-42a6c5f3a425"
      },
      "execution_count": 7,
      "outputs": [
        {
          "output_type": "execute_result",
          "data": {
            "text/plain": [
              "                                         description   1007   1012   1014  \\\n",
              "0  It was possible for double OGNL evaluation in ...      0      0      1   \n",
              "6  The vhci_hcd driver in the Linux Kernel before...      1      0      0   \n",
              "\n",
              "    1015   1016   1018   1027   1031   1033  ...  1023  1027  1038  1044  \\\n",
              "0      1      0      0      0      1      0  ...     0     0     0     0   \n",
              "6      0      1      1      0      0      1  ...     0     0     0     0   \n",
              "\n",
              "   1081  1130  1134  1148  1156  1208  \n",
              "0     0     0     0     0     1     0  \n",
              "6     0     0     0     1     0     0  \n",
              "\n",
              "[2 rows x 58 columns]"
            ],
            "text/html": [
              "\n",
              "  <div id=\"df-d574fd7f-8e7d-4ce6-aeec-c7c29b708b4d\">\n",
              "    <div class=\"colab-df-container\">\n",
              "      <div>\n",
              "<style scoped>\n",
              "    .dataframe tbody tr th:only-of-type {\n",
              "        vertical-align: middle;\n",
              "    }\n",
              "\n",
              "    .dataframe tbody tr th {\n",
              "        vertical-align: top;\n",
              "    }\n",
              "\n",
              "    .dataframe thead th {\n",
              "        text-align: right;\n",
              "    }\n",
              "</style>\n",
              "<table border=\"1\" class=\"dataframe\">\n",
              "  <thead>\n",
              "    <tr style=\"text-align: right;\">\n",
              "      <th></th>\n",
              "      <th>description</th>\n",
              "      <th>1007</th>\n",
              "      <th>1012</th>\n",
              "      <th>1014</th>\n",
              "      <th>1015</th>\n",
              "      <th>1016</th>\n",
              "      <th>1018</th>\n",
              "      <th>1027</th>\n",
              "      <th>1031</th>\n",
              "      <th>1033</th>\n",
              "      <th>...</th>\n",
              "      <th>1023</th>\n",
              "      <th>1027</th>\n",
              "      <th>1038</th>\n",
              "      <th>1044</th>\n",
              "      <th>1081</th>\n",
              "      <th>1130</th>\n",
              "      <th>1134</th>\n",
              "      <th>1148</th>\n",
              "      <th>1156</th>\n",
              "      <th>1208</th>\n",
              "    </tr>\n",
              "  </thead>\n",
              "  <tbody>\n",
              "    <tr>\n",
              "      <th>0</th>\n",
              "      <td>It was possible for double OGNL evaluation in ...</td>\n",
              "      <td>0</td>\n",
              "      <td>0</td>\n",
              "      <td>1</td>\n",
              "      <td>1</td>\n",
              "      <td>0</td>\n",
              "      <td>0</td>\n",
              "      <td>0</td>\n",
              "      <td>1</td>\n",
              "      <td>0</td>\n",
              "      <td>...</td>\n",
              "      <td>0</td>\n",
              "      <td>0</td>\n",
              "      <td>0</td>\n",
              "      <td>0</td>\n",
              "      <td>0</td>\n",
              "      <td>0</td>\n",
              "      <td>0</td>\n",
              "      <td>0</td>\n",
              "      <td>1</td>\n",
              "      <td>0</td>\n",
              "    </tr>\n",
              "    <tr>\n",
              "      <th>6</th>\n",
              "      <td>The vhci_hcd driver in the Linux Kernel before...</td>\n",
              "      <td>1</td>\n",
              "      <td>0</td>\n",
              "      <td>0</td>\n",
              "      <td>0</td>\n",
              "      <td>1</td>\n",
              "      <td>1</td>\n",
              "      <td>0</td>\n",
              "      <td>0</td>\n",
              "      <td>1</td>\n",
              "      <td>...</td>\n",
              "      <td>0</td>\n",
              "      <td>0</td>\n",
              "      <td>0</td>\n",
              "      <td>0</td>\n",
              "      <td>0</td>\n",
              "      <td>0</td>\n",
              "      <td>0</td>\n",
              "      <td>1</td>\n",
              "      <td>0</td>\n",
              "      <td>0</td>\n",
              "    </tr>\n",
              "  </tbody>\n",
              "</table>\n",
              "<p>2 rows × 58 columns</p>\n",
              "</div>\n",
              "      <button class=\"colab-df-convert\" onclick=\"convertToInteractive('df-d574fd7f-8e7d-4ce6-aeec-c7c29b708b4d')\"\n",
              "              title=\"Convert this dataframe to an interactive table.\"\n",
              "              style=\"display:none;\">\n",
              "        \n",
              "  <svg xmlns=\"http://www.w3.org/2000/svg\" height=\"24px\"viewBox=\"0 0 24 24\"\n",
              "       width=\"24px\">\n",
              "    <path d=\"M0 0h24v24H0V0z\" fill=\"none\"/>\n",
              "    <path d=\"M18.56 5.44l.94 2.06.94-2.06 2.06-.94-2.06-.94-.94-2.06-.94 2.06-2.06.94zm-11 1L8.5 8.5l.94-2.06 2.06-.94-2.06-.94L8.5 2.5l-.94 2.06-2.06.94zm10 10l.94 2.06.94-2.06 2.06-.94-2.06-.94-.94-2.06-.94 2.06-2.06.94z\"/><path d=\"M17.41 7.96l-1.37-1.37c-.4-.4-.92-.59-1.43-.59-.52 0-1.04.2-1.43.59L10.3 9.45l-7.72 7.72c-.78.78-.78 2.05 0 2.83L4 21.41c.39.39.9.59 1.41.59.51 0 1.02-.2 1.41-.59l7.78-7.78 2.81-2.81c.8-.78.8-2.07 0-2.86zM5.41 20L4 18.59l7.72-7.72 1.47 1.35L5.41 20z\"/>\n",
              "  </svg>\n",
              "      </button>\n",
              "      \n",
              "  <style>\n",
              "    .colab-df-container {\n",
              "      display:flex;\n",
              "      flex-wrap:wrap;\n",
              "      gap: 12px;\n",
              "    }\n",
              "\n",
              "    .colab-df-convert {\n",
              "      background-color: #E8F0FE;\n",
              "      border: none;\n",
              "      border-radius: 50%;\n",
              "      cursor: pointer;\n",
              "      display: none;\n",
              "      fill: #1967D2;\n",
              "      height: 32px;\n",
              "      padding: 0 0 0 0;\n",
              "      width: 32px;\n",
              "    }\n",
              "\n",
              "    .colab-df-convert:hover {\n",
              "      background-color: #E2EBFA;\n",
              "      box-shadow: 0px 1px 2px rgba(60, 64, 67, 0.3), 0px 1px 3px 1px rgba(60, 64, 67, 0.15);\n",
              "      fill: #174EA6;\n",
              "    }\n",
              "\n",
              "    [theme=dark] .colab-df-convert {\n",
              "      background-color: #3B4455;\n",
              "      fill: #D2E3FC;\n",
              "    }\n",
              "\n",
              "    [theme=dark] .colab-df-convert:hover {\n",
              "      background-color: #434B5C;\n",
              "      box-shadow: 0px 1px 3px 1px rgba(0, 0, 0, 0.15);\n",
              "      filter: drop-shadow(0px 1px 2px rgba(0, 0, 0, 0.3));\n",
              "      fill: #FFFFFF;\n",
              "    }\n",
              "  </style>\n",
              "\n",
              "      <script>\n",
              "        const buttonEl =\n",
              "          document.querySelector('#df-d574fd7f-8e7d-4ce6-aeec-c7c29b708b4d button.colab-df-convert');\n",
              "        buttonEl.style.display =\n",
              "          google.colab.kernel.accessAllowed ? 'block' : 'none';\n",
              "\n",
              "        async function convertToInteractive(key) {\n",
              "          const element = document.querySelector('#df-d574fd7f-8e7d-4ce6-aeec-c7c29b708b4d');\n",
              "          const dataTable =\n",
              "            await google.colab.kernel.invokeFunction('convertToInteractive',\n",
              "                                                     [key], {});\n",
              "          if (!dataTable) return;\n",
              "\n",
              "          const docLinkHtml = 'Like what you see? Visit the ' +\n",
              "            '<a target=\"_blank\" href=https://colab.research.google.com/notebooks/data_table.ipynb>data table notebook</a>'\n",
              "            + ' to learn more about interactive tables.';\n",
              "          element.innerHTML = '';\n",
              "          dataTable['output_type'] = 'display_data';\n",
              "          await google.colab.output.renderOutput(dataTable, element);\n",
              "          const docLink = document.createElement('div');\n",
              "          docLink.innerHTML = docLinkHtml;\n",
              "          element.appendChild(docLink);\n",
              "        }\n",
              "      </script>\n",
              "    </div>\n",
              "  </div>\n",
              "  "
            ]
          },
          "metadata": {},
          "execution_count": 7
        }
      ]
    },
    {
      "cell_type": "markdown",
      "source": [
        "---"
      ],
      "metadata": {
        "id": "ga8Iz73QuyS0"
      }
    },
    {
      "cell_type": "markdown",
      "source": [
        "----"
      ],
      "metadata": {
        "id": "GWz0s1Vxuzde"
      }
    },
    {
      "cell_type": "markdown",
      "source": [
        "## **Prepare Data**\n"
      ],
      "metadata": {
        "id": "lblZf81VFVx0"
      }
    },
    {
      "cell_type": "code",
      "source": [
        "X = df[\"description\"]\n",
        "y = df.loc[ : , df.columns != 'description']"
      ],
      "metadata": {
        "id": "kGWtjZ4Qt2ih"
      },
      "execution_count": 8,
      "outputs": []
    },
    {
      "cell_type": "code",
      "source": [
        "# Scan Percentage of Noise(Unclean data) in text\n",
        "X.apply(lambda x:nt.TextFrame(x).noise_scan())"
      ],
      "metadata": {
        "colab": {
          "base_uri": "https://localhost:8080/"
        },
        "id": "Xki3tXavFHOD",
        "outputId": "197f3825-07e2-4c7a-fd1a-d2ab6d6a968f"
      },
      "execution_count": 9,
      "outputs": [
        {
          "output_type": "execute_result",
          "data": {
            "text/plain": [
              "0        {'text_noise': 10.855263157894738, 'text_lengt...\n",
              "6        {'text_noise': 8.018867924528301, 'text_length...\n",
              "7        {'text_noise': 9.82905982905983, 'text_length'...\n",
              "10       {'text_noise': 8.655462184873949, 'text_length...\n",
              "16       {'text_noise': 8.176100628930817, 'text_length...\n",
              "                               ...                        \n",
              "27458    {'text_noise': 7.03125, 'text_length': 128, 'n...\n",
              "27460    {'text_noise': 10.666666666666668, 'text_lengt...\n",
              "27461    {'text_noise': 9.420289855072465, 'text_length...\n",
              "27464    {'text_noise': 11.11111111111111, 'text_length...\n",
              "27470    {'text_noise': 11.39240506329114, 'text_length...\n",
              "Name: description, Length: 8077, dtype: object"
            ]
          },
          "metadata": {},
          "execution_count": 9
        }
      ]
    },
    {
      "cell_type": "code",
      "source": [
        "# Show the stopwords contained on each row of column \"description\"\n",
        "X.apply(lambda x:nt.TextExtractor(x).extract_stopwords())"
      ],
      "metadata": {
        "colab": {
          "base_uri": "https://localhost:8080/"
        },
        "id": "xjWocC7tFI0d",
        "outputId": "67a9f6f8-1904-4b3e-da4a-e388bd7830f7"
      },
      "execution_count": 10,
      "outputs": [
        {
          "output_type": "execute_result",
          "data": {
            "text/plain": [
              "0        [it, was, for, in, and, in, and, in, to, an, w...\n",
              "6        [the, in, the, before, and, to, that, a, is, o...\n",
              "7        [the, in, before, and, before, does, not, this...\n",
              "10       [a, in, the, of, for, the, could, an, to, a, o...\n",
              "16                                  [in, the, in, all, of]\n",
              "                               ...                        \n",
              "27458                                [before, because, of]\n",
              "27460                                     [before, during]\n",
              "27461                   [before, in, the, of, the, during]\n",
              "27464                               [before, to, via, the]\n",
              "27470                                    [before, to, the]\n",
              "Name: description, Length: 8077, dtype: object"
            ]
          },
          "metadata": {},
          "execution_count": 10
        }
      ]
    },
    {
      "cell_type": "code",
      "source": [
        "X.apply(lambda x:nt.TextExtractor(x).extract_numbers())"
      ],
      "metadata": {
        "colab": {
          "base_uri": "https://localhost:8080/"
        },
        "id": "AZuOllhiGDvu",
        "outputId": "59384a67-9c20-41f8-e023-ff290a2ec014"
      },
      "execution_count": 11,
      "outputs": [
        {
          "output_type": "execute_result",
          "data": {
            "text/plain": [
              "0                  [4, 4, 5, 4, 4, 4, 5, 0, 4, 5, 2, 4, 5]\n",
              "6                                    [4, 14, 8, 4, 4, 114]\n",
              "7                           [5, 2, 9, 2, 5, 3, 5, 3, 4, 2]\n",
              "10       [6, 5, 3, 4, 9000, 6, 6, 9000, 5, 3, 4, 6, 7, ...\n",
              "16                                 [3, 0, 0, 4, 380, 7743]\n",
              "                               ...                        \n",
              "27458                                      [74, 0, 0, 416]\n",
              "27460                                      [74, 0, 8, 449]\n",
              "27461                                      [74, 0, 8, 447]\n",
              "27464                                      [74, 0, 8, 444]\n",
              "27470                                      [74, 0, 8, 409]\n",
              "Name: description, Length: 8077, dtype: object"
            ]
          },
          "metadata": {},
          "execution_count": 11
        }
      ]
    },
    {
      "cell_type": "code",
      "source": [
        "# Clean text by removing emails,numbers,stopwords,emojis,etc\n",
        "# A simplified method for cleaning text by specifying as True/False what to clean from a text\n",
        "\n",
        "X = X.apply(lambda x:nt.TextExtractor(x).clean_text())"
      ],
      "metadata": {
        "id": "DfinaAMjGP5v"
      },
      "execution_count": 12,
      "outputs": []
    },
    {
      "cell_type": "code",
      "source": [
        "X = X.apply(nfx.remove_stopwords)"
      ],
      "metadata": {
        "id": "psUlHmixKnOZ"
      },
      "execution_count": 13,
      "outputs": []
    },
    {
      "cell_type": "code",
      "source": [
        "X"
      ],
      "metadata": {
        "colab": {
          "base_uri": "https://localhost:8080/"
        },
        "id": "auMRlhPmGRHL",
        "outputId": "3fd9c973-db17-4900-862e-801ae8b43925"
      },
      "execution_count": 14,
      "outputs": [
        {
          "output_type": "execute_result",
          "data": {
            "text/plain": [
              "0        possible double ognl evaluation certain redire...\n",
              "6        vhcihcd driver linux kernel version allows all...\n",
              "7        gui component aka pulseui pulse secure desktop...\n",
              "10       vulnerability ipv subsystem cisco ios xr softw...\n",
              "16       highly predictable session tokens httpd server...\n",
              "                               ...                        \n",
              "27458    cpanel allows apache http server configuration...\n",
              "27460      cpanel allows ftp access account suspension sec\n",
              "27461    cpanel allows arbitrary filewrite operations c...\n",
              "27464    cpanel allows demo accounts execute arbitrary ...\n",
              "27470    cpanel allows local users disable clamav daemo...\n",
              "Name: description, Length: 8077, dtype: object"
            ]
          },
          "metadata": {},
          "execution_count": 14
        }
      ]
    },
    {
      "cell_type": "markdown",
      "source": [
        "----"
      ],
      "metadata": {
        "id": "jdyEOkVtIS-L"
      }
    },
    {
      "cell_type": "markdown",
      "source": [
        "-----"
      ],
      "metadata": {
        "id": "ISh-BoeRIT9_"
      }
    },
    {
      "cell_type": "markdown",
      "source": [
        "## **TfidfVectorizer**"
      ],
      "metadata": {
        "id": "sVOOxVrJJH89"
      }
    },
    {
      "cell_type": "markdown",
      "source": [
        "TfidfVectorizer converts a collection of raw documents to a matrix of TF-IDF features. Each document is represented as a set of words, and the number of times each word appears in the collection is used to compute its TF-IDF feature.\n",
        "\n",
        "The tfidf_vectorizer class implements a vectorizer for calculating term frequency/inverse document frequency (TF/IDF), which can be used as a measure for modeling the importance of terms within documents. It takes in raw texts and returns an array of feature vectors for each input text.\n",
        "\n",
        "https://www.egochi.com/tfidfvectorizer/"
      ],
      "metadata": {
        "id": "LmI91GsdJEc4"
      }
    },
    {
      "cell_type": "code",
      "source": [
        "tfidf = TfidfVectorizer(lowercase=False, max_df=0.5, max_features=60000, ngram_range=(1,2))"
      ],
      "metadata": {
        "id": "X-enqtqmG5U1"
      },
      "execution_count": 17,
      "outputs": []
    },
    {
      "cell_type": "code",
      "source": [
        "Xfeatures = tfidf.fit_transform(X).toarray()"
      ],
      "metadata": {
        "id": "pqyNW4BXJ_sT"
      },
      "execution_count": 18,
      "outputs": []
    },
    {
      "cell_type": "code",
      "source": [],
      "metadata": {
        "id": "rzvUva15LIG4"
      },
      "execution_count": 18,
      "outputs": []
    },
    {
      "cell_type": "code",
      "source": [
        "X_train,X_test,y_train,y_test = train_test_split(Xfeatures,y,test_size=0.30,random_state=42)"
      ],
      "metadata": {
        "id": "NCiHsFLHLRKm"
      },
      "execution_count": 19,
      "outputs": []
    },
    {
      "cell_type": "code",
      "source": [
        "print(df['description'].shape)\n",
        "print(X_train.shape)"
      ],
      "metadata": {
        "colab": {
          "base_uri": "https://localhost:8080/"
        },
        "id": "oK_x-thYLS36",
        "outputId": "f6feeedb-19f4-4312-cee3-edb94deb129f"
      },
      "execution_count": 20,
      "outputs": [
        {
          "output_type": "stream",
          "name": "stdout",
          "text": [
            "(8077,)\n",
            "(5653, 60000)\n"
          ]
        }
      ]
    },
    {
      "cell_type": "code",
      "source": [
        "# Convert Multi-Label Problem to Multi-Class binary classficiation\n",
        "binary_rel_clf = BinaryRelevance(MultinomialNB())\n",
        "binary_rel_clf.fit(X_train,y_train)\n",
        "br_prediction = binary_rel_clf.predict(X_test)"
      ],
      "metadata": {
        "id": "cLXCIM81LYd_"
      },
      "execution_count": 21,
      "outputs": []
    },
    {
      "cell_type": "code",
      "source": [
        "br_prediction.toarray()"
      ],
      "metadata": {
        "colab": {
          "base_uri": "https://localhost:8080/"
        },
        "id": "qiHsQLfKL9xY",
        "outputId": "11ff959b-4f0b-4592-8bdc-001174344597"
      },
      "execution_count": 22,
      "outputs": [
        {
          "output_type": "execute_result",
          "data": {
            "text/plain": [
              "array([[0, 0, 0, ..., 0, 0, 0],\n",
              "       [0, 0, 1, ..., 0, 1, 0],\n",
              "       [0, 0, 0, ..., 0, 0, 0],\n",
              "       ...,\n",
              "       [1, 0, 0, ..., 1, 0, 0],\n",
              "       [0, 0, 0, ..., 1, 0, 0],\n",
              "       [0, 0, 0, ..., 1, 0, 0]])"
            ]
          },
          "metadata": {},
          "execution_count": 22
        }
      ]
    },
    {
      "cell_type": "code",
      "source": [
        "accuracy_score(y_test,br_prediction)"
      ],
      "metadata": {
        "colab": {
          "base_uri": "https://localhost:8080/"
        },
        "id": "y9JHMBcKMsJf",
        "outputId": "5a6991ff-a88e-4177-f82a-671f24867fd5"
      },
      "execution_count": 23,
      "outputs": [
        {
          "output_type": "execute_result",
          "data": {
            "text/plain": [
              "0.4141914191419142"
            ]
          },
          "metadata": {},
          "execution_count": 23
        }
      ]
    },
    {
      "cell_type": "code",
      "source": [
        "hamming_loss(y_test,br_prediction)"
      ],
      "metadata": {
        "colab": {
          "base_uri": "https://localhost:8080/"
        },
        "id": "Cljag-ASMtON",
        "outputId": "4d475e6c-8c21-44a5-d74e-6092108c437b"
      },
      "execution_count": 24,
      "outputs": [
        {
          "output_type": "execute_result",
          "data": {
            "text/plain": [
              "0.09107029123965028"
            ]
          },
          "metadata": {},
          "execution_count": 24
        }
      ]
    },
    {
      "cell_type": "code",
      "source": [],
      "metadata": {
        "id": "iJ2FiZnQMxnF"
      },
      "execution_count": null,
      "outputs": []
    }
  ]
}